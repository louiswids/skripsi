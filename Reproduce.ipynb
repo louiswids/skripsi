{
 "cells": [
  {
   "cell_type": "code",
   "execution_count": 2,
   "id": "48be7f65-5dd9-425e-b6df-b6f729c5b8ab",
   "metadata": {},
   "outputs": [],
   "source": [
    "import numpy as np\n",
    "import pandas as pd\n",
    "import scipy\n",
    "from scipy.optimize import least_squares\n",
    "import math"
   ]
  },
  {
   "cell_type": "markdown",
   "id": "c546eac2-3ec1-42c6-aa78-fddb95d56765",
   "metadata": {},
   "source": [
    "## Single First Order Reaction"
   ]
  },
  {
   "cell_type": "code",
   "execution_count": 26,
   "id": "88147a93-70c0-4b3f-bf48-52939f3501a1",
   "metadata": {},
   "outputs": [],
   "source": [
    "T_ref = 27\n",
    "gas_const = scipy.constants.gas_constant\n",
    "# [[A]_0, k(T_ref), E_a]\n",
    "single_params = np.array([97.9, (7.4 * 10**(-5)) ,115.83])\n",
    "\n",
    "def single_rate_constant(T, kT_ref, E_a):\n",
    "    e = math.e**(((-E_a)/gas_const)*((1/T) - (1/T_ref)))\n",
    "    return (kT_ref * e)\n",
    "\n",
    "def A_single (params, t,T):\n",
    "    k = single_rate_constant(T, params[1], params[2])\n",
    "    e = math.e**((-1)* k *t)\n",
    "    return (params[0] * e)\n",
    "\n",
    "def B_single(params, t, T, B_0):\n",
    "    A = A_single(params, t, T)\n",
    "    return (B_0 + params[0] - A)"
   ]
  },
  {
   "cell_type": "markdown",
   "id": "10337f7c-7765-47a2-a3a9-3eb0c2461f73",
   "metadata": {},
   "source": [
    "## Parallel First Order Reaction"
   ]
  },
  {
   "cell_type": "code",
   "execution_count": 25,
   "id": "2954ebb8-157e-48c4-b09f-635db725fc11",
   "metadata": {},
   "outputs": [],
   "source": [
    "# [[A]0, [B]0, kB(Tref), kC(Tref), Ea,B, Ea,C]\n",
    "parallel_params = [1,2,3,4,5,6]\n",
    "\n",
    "def parallel_rate_constant(T, kT_refX, E_aX):\n",
    "    e = math.e**(((-E_aX)/gas_const)*((1/T) - (1/T_ref)))\n",
    "    return (kT_refX * e)\n",
    "\n",
    "def A_parallel(params, t, T):\n",
    "    k_b = parallel_rate_constant(T, params[2], params[4])\n",
    "    k_c = parallel_rate_constant(T, params[3], params[5])\n",
    "    e = math.e**((-1)*( k_b + k_c )*t)\n",
    "    return (params[0] * e)\n",
    "\n",
    "\"\"\"\n",
    "For B and C, we are taking the assumption given in the article that: \n",
    "\n",
    "[B] = [A]_0\\frac{k_b}{k_b + k_c} ...\n",
    "\n",
    "where k_b and k_c would be txhe rate czonstant of the reference temperature\n",
    "\"\"\"\n",
    "def B_parallel(params, t, T):\n",
    "    k_b = parallel_rate_constant(T, params[2], params[4])\n",
    "    k_c = parallel_rate_constant(T, params[3], params[5])\n",
    "    e = math.e**((-1)*(k_b + k_c) * t)\n",
    "    total_k = params[2] + params[3]\n",
    "    x = params[0] * (params[2] / total_k) * (1 - e)\n",
    "    return (x - params[1])\n",
    "    \n",
    "def C_parallel(params, t, T):\n",
    "    k_b = parallel_rate_constant(T, params[2], params[4])\n",
    "    k_c = parallel_rate_constant(T, params[3], params[5])\n",
    "    e = math.e**((-1)*(k_b + k_c) * t)\n",
    "    total_k = params[2] + params[3]\n",
    "    x = params[0] * (params[3] / total_k) * (1 - e)\n",
    "    # [C]_0 = 100 - ([A]_0 + [B]_0\n",
    "    return (x - (100 - (params[0] + params[1])))"
   ]
  }
 ],
 "metadata": {
  "kernelspec": {
   "display_name": "Python 3 (ipykernel)",
   "language": "python",
   "name": "python3"
  },
  "language_info": {
   "codemirror_mode": {
    "name": "ipython",
    "version": 3
   },
   "file_extension": ".py",
   "mimetype": "text/x-python",
   "name": "python",
   "nbconvert_exporter": "python",
   "pygments_lexer": "ipython3",
   "version": "3.10.13"
  }
 },
 "nbformat": 4,
 "nbformat_minor": 5
}
